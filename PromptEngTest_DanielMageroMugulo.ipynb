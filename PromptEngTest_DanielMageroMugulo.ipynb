{
 "cells": [
  {
   "cell_type": "markdown",
   "id": "17dd3df3",
   "metadata": {},
   "source": [
    "## MUGULO DANIEL MAGERO\n",
    "## M24B38/017\n",
    "\n",
    "\n",
    "I have refactored the code to use gemini instead since there are no free openai keys and teh responses are to two questions\n",
    "\n",
    "1. Name species of fish.\n",
    "2. What is the capital city of Kampala?"
   ]
  },
  {
   "cell_type": "code",
   "execution_count": null,
   "id": "ee18320f-df58-4aa9-96d3-7e625edad5b3",
   "metadata": {},
   "outputs": [
    {
     "name": "stdout",
     "output_type": "stream",
     "text": [
      "Gemini API configured successfully.\n",
      "Model and chat initialized successfully.\n",
      "\n",
      "Type your messages. Type 'bye' to exit.\n",
      "\n"
     ]
    },
    {
     "name": "stderr",
     "output_type": "stream",
     "text": [
      "/home/daniel-magero-mugulo/Documents/Data Science/Yr2Sem1/Coding/venv/lib/python3.12/site-packages/tqdm/auto.py:21: TqdmWarning: IProgress not found. Please update jupyter and ipywidgets. See https://ipywidgets.readthedocs.io/en/stable/user_install.html\n",
      "  from .autonotebook import tqdm as notebook_tqdm\n"
     ]
    },
    {
     "name": "stdout",
     "output_type": "stream",
     "text": [
      "Gemini: Tuna, Salmon, Cod, Mackerel, Trout, Halibut, Bass, Pike, Perch, Sardine.\n",
      "\n",
      "Gemini: Kampala.\n",
      "\n",
      "Gemini: Kampala.\n",
      "\n",
      "Gemini: Goodbye 👋\n",
      "Gemini: Goodbye 👋\n"
     ]
    }
   ],
   "source": [
    "\n",
    "\n",
    "import os\n",
    "from dotenv import load_dotenv\n",
    "import google.generativeai as genai\n",
    "\n",
    "\n",
    "# Load environment variables (including GEMINI_API_KEY)\n",
    "load_dotenv()\n",
    "\n",
    "try:\n",
    "    # Fetch the API key from environment variables\n",
    "    api_key = os.getenv(\"GEMINI_API_KEY\")\n",
    "    if not api_key:\n",
    "        raise RuntimeError(\"Missing GEMINI_API_KEY in environment. Add it to your .env file.\")\n",
    "    \n",
    "    # Configure the genai library with the API key\n",
    "    genai.configure(api_key=api_key)\n",
    "    print(\"Gemini API configured successfully.\")\n",
    "    # ---------------------------------\n",
    "\n",
    "except RuntimeError as e:\n",
    "    print(e)\n",
    "    exit()\n",
    "except Exception as e:\n",
    "    print(f\"Error during configuration: {e}\")\n",
    "    exit()\n",
    "\n",
    "# System prompt not changed from the openai one\n",
    "system_prompt = \"You are an intelligent assistant. Make sure you stay within 10 words.\"\n",
    "\n",
    "# Initialize the model and start the chat (this part was already correct)\n",
    "try:\n",
    "    model = genai.GenerativeModel(\n",
    "        model_name=\"gemini-2.5-flash\",\n",
    "        system_instruction=system_prompt\n",
    "    )\n",
    "    chat = model.start_chat(history=[])  # Stateful chat carries context\n",
    "    print(\"Model and chat initialized successfully.\")\n",
    "    \n",
    "except Exception as e:\n",
    "    print(f\"Error initializing the model: {e}\")\n",
    "    exit()\n",
    "\n",
    "\n",
    "print(\"\\nType your messages. Type 'bye' to exit.\\n\")\n",
    "\n",
    "# The chat loop (this part was also already correct)\n",
    "while True:\n",
    "    user_msg = input(\"User: \").strip()\n",
    "    if not user_msg:\n",
    "        continue\n",
    "    if user_msg.lower() == \"bye\":\n",
    "        print(\"Gemini: Goodbye 👋\")\n",
    "        break\n",
    "\n",
    "    try:\n",
    "        response = chat.send_message(user_msg)\n",
    "        reply = (response.text or \"\").strip()\n",
    "        if not reply:\n",
    "            reply = \"(No response received.)\"\n",
    "        print(f\"Gemini: {reply}\\n\")\n",
    "    except Exception as e:\n",
    "        print(f\"An error occurred while sending the message: {e}\")\n",
    "        # You might want to break here if a fatal error occurs\n",
    "        # break"
   ]
  },
  {
   "cell_type": "code",
   "execution_count": null,
   "id": "bcab176f-cc00-45b7-b505-267a32146101",
   "metadata": {},
   "outputs": [],
   "source": []
  }
 ],
 "metadata": {
  "kernelspec": {
   "display_name": "venv",
   "language": "python",
   "name": "python3"
  },
  "language_info": {
   "codemirror_mode": {
    "name": "ipython",
    "version": 3
   },
   "file_extension": ".py",
   "mimetype": "text/x-python",
   "name": "python",
   "nbconvert_exporter": "python",
   "pygments_lexer": "ipython3",
   "version": "3.12.3"
  }
 },
 "nbformat": 4,
 "nbformat_minor": 5
}
