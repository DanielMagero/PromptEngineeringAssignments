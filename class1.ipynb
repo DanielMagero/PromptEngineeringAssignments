{
 "cells": [
  {
   "cell_type": "code",
   "execution_count": 1,
   "id": "b72c303b",
   "metadata": {},
   "outputs": [
    {
     "name": "stdout",
     "output_type": "stream",
     "text": [
      "Collecting google-genai\n",
      "  Downloading google_genai-1.41.0-py3-none-any.whl.metadata (45 kB)\n",
      "\u001b[2K     \u001b[90m━━━━━━━━━━━━━━━━━━━━━━━━━━━━━━━━━━━━━━━\u001b[0m \u001b[32m45.4/45.4 kB\u001b[0m \u001b[31m187.4 kB/s\u001b[0m eta \u001b[36m0:00:00\u001b[0ma \u001b[36m0:00:01\u001b[0m\n",
      "\u001b[?25hRequirement already satisfied: anyio<5.0.0,>=4.8.0 in /home/daniel-magero-mugulo/Documents/Data Science/Yr2Sem1/Coding/venv/lib/python3.12/site-packages (from google-genai) (4.11.0)\n",
      "Collecting google-auth<3.0.0,>=2.14.1 (from google-genai)\n",
      "  Downloading google_auth-2.41.1-py2.py3-none-any.whl.metadata (6.6 kB)\n",
      "Requirement already satisfied: httpx<1.0.0,>=0.28.1 in /home/daniel-magero-mugulo/Documents/Data Science/Yr2Sem1/Coding/venv/lib/python3.12/site-packages (from google-genai) (0.28.1)\n",
      "Requirement already satisfied: pydantic<3.0.0,>=2.0.0 in /home/daniel-magero-mugulo/Documents/Data Science/Yr2Sem1/Coding/venv/lib/python3.12/site-packages (from google-genai) (2.11.9)\n",
      "Collecting requests<3.0.0,>=2.28.1 (from google-genai)\n",
      "  Using cached requests-2.32.5-py3-none-any.whl.metadata (4.9 kB)\n",
      "Collecting tenacity<9.2.0,>=8.2.3 (from google-genai)\n",
      "  Using cached tenacity-9.1.2-py3-none-any.whl.metadata (1.2 kB)\n",
      "Collecting websockets<15.1.0,>=13.0.0 (from google-genai)\n",
      "  Using cached websockets-15.0.1-cp312-cp312-manylinux_2_5_x86_64.manylinux1_x86_64.manylinux_2_17_x86_64.manylinux2014_x86_64.whl.metadata (6.8 kB)\n",
      "Requirement already satisfied: typing-extensions<5.0.0,>=4.11.0 in /home/daniel-magero-mugulo/Documents/Data Science/Yr2Sem1/Coding/venv/lib/python3.12/site-packages (from google-genai) (4.15.0)\n",
      "Requirement already satisfied: idna>=2.8 in /home/daniel-magero-mugulo/Documents/Data Science/Yr2Sem1/Coding/venv/lib/python3.12/site-packages (from anyio<5.0.0,>=4.8.0->google-genai) (3.10)\n",
      "Requirement already satisfied: sniffio>=1.1 in /home/daniel-magero-mugulo/Documents/Data Science/Yr2Sem1/Coding/venv/lib/python3.12/site-packages (from anyio<5.0.0,>=4.8.0->google-genai) (1.3.1)\n",
      "Collecting cachetools<7.0,>=2.0.0 (from google-auth<3.0.0,>=2.14.1->google-genai)\n",
      "  Using cached cachetools-6.2.0-py3-none-any.whl.metadata (5.4 kB)\n",
      "Collecting pyasn1-modules>=0.2.1 (from google-auth<3.0.0,>=2.14.1->google-genai)\n",
      "  Using cached pyasn1_modules-0.4.2-py3-none-any.whl.metadata (3.5 kB)\n",
      "Collecting rsa<5,>=3.1.4 (from google-auth<3.0.0,>=2.14.1->google-genai)\n",
      "  Using cached rsa-4.9.1-py3-none-any.whl.metadata (5.6 kB)\n",
      "Requirement already satisfied: certifi in /home/daniel-magero-mugulo/Documents/Data Science/Yr2Sem1/Coding/venv/lib/python3.12/site-packages (from httpx<1.0.0,>=0.28.1->google-genai) (2025.8.3)\n",
      "Requirement already satisfied: httpcore==1.* in /home/daniel-magero-mugulo/Documents/Data Science/Yr2Sem1/Coding/venv/lib/python3.12/site-packages (from httpx<1.0.0,>=0.28.1->google-genai) (1.0.9)\n",
      "Requirement already satisfied: h11>=0.16 in /home/daniel-magero-mugulo/Documents/Data Science/Yr2Sem1/Coding/venv/lib/python3.12/site-packages (from httpcore==1.*->httpx<1.0.0,>=0.28.1->google-genai) (0.16.0)\n",
      "Requirement already satisfied: annotated-types>=0.6.0 in /home/daniel-magero-mugulo/Documents/Data Science/Yr2Sem1/Coding/venv/lib/python3.12/site-packages (from pydantic<3.0.0,>=2.0.0->google-genai) (0.7.0)\n",
      "Requirement already satisfied: pydantic-core==2.33.2 in /home/daniel-magero-mugulo/Documents/Data Science/Yr2Sem1/Coding/venv/lib/python3.12/site-packages (from pydantic<3.0.0,>=2.0.0->google-genai) (2.33.2)\n",
      "Requirement already satisfied: typing-inspection>=0.4.0 in /home/daniel-magero-mugulo/Documents/Data Science/Yr2Sem1/Coding/venv/lib/python3.12/site-packages (from pydantic<3.0.0,>=2.0.0->google-genai) (0.4.1)\n",
      "Collecting charset_normalizer<4,>=2 (from requests<3.0.0,>=2.28.1->google-genai)\n",
      "  Using cached charset_normalizer-3.4.3-cp312-cp312-manylinux2014_x86_64.manylinux_2_17_x86_64.manylinux_2_28_x86_64.whl.metadata (36 kB)\n",
      "Collecting urllib3<3,>=1.21.1 (from requests<3.0.0,>=2.28.1->google-genai)\n",
      "  Using cached urllib3-2.5.0-py3-none-any.whl.metadata (6.5 kB)\n",
      "Collecting pyasn1<0.7.0,>=0.6.1 (from pyasn1-modules>=0.2.1->google-auth<3.0.0,>=2.14.1->google-genai)\n",
      "  Using cached pyasn1-0.6.1-py3-none-any.whl.metadata (8.4 kB)\n",
      "Downloading google_genai-1.41.0-py3-none-any.whl (245 kB)\n",
      "\u001b[2K   \u001b[90m━━━━━━━━━━━━━━━━━━━━━━━━━━━━━━━━━━━━━━━\u001b[0m \u001b[32m245.9/245.9 kB\u001b[0m \u001b[31m583.9 kB/s\u001b[0m eta \u001b[36m0:00:00\u001b[0m00:01\u001b[0m00:01\u001b[0m\n",
      "\u001b[?25hDownloading google_auth-2.41.1-py2.py3-none-any.whl (221 kB)\n",
      "\u001b[2K   \u001b[90m━━━━━━━━━━━━━━━━━━━━━━━━━━━━━━━━━━━━━━━\u001b[0m \u001b[32m221.3/221.3 kB\u001b[0m \u001b[31m646.3 kB/s\u001b[0m eta \u001b[36m0:00:00\u001b[0ma \u001b[36m0:00:01\u001b[0m\n",
      "\u001b[?25hUsing cached requests-2.32.5-py3-none-any.whl (64 kB)\n",
      "Using cached tenacity-9.1.2-py3-none-any.whl (28 kB)\n",
      "Using cached websockets-15.0.1-cp312-cp312-manylinux_2_5_x86_64.manylinux1_x86_64.manylinux_2_17_x86_64.manylinux2014_x86_64.whl (182 kB)\n",
      "Using cached cachetools-6.2.0-py3-none-any.whl (11 kB)\n",
      "Using cached charset_normalizer-3.4.3-cp312-cp312-manylinux2014_x86_64.manylinux_2_17_x86_64.manylinux_2_28_x86_64.whl (151 kB)\n",
      "Using cached pyasn1_modules-0.4.2-py3-none-any.whl (181 kB)\n",
      "Using cached rsa-4.9.1-py3-none-any.whl (34 kB)\n",
      "Using cached urllib3-2.5.0-py3-none-any.whl (129 kB)\n",
      "Using cached pyasn1-0.6.1-py3-none-any.whl (83 kB)\n",
      "Installing collected packages: websockets, urllib3, tenacity, pyasn1, charset_normalizer, cachetools, rsa, requests, pyasn1-modules, google-auth, google-genai\n",
      "Successfully installed cachetools-6.2.0 charset_normalizer-3.4.3 google-auth-2.41.1 google-genai-1.41.0 pyasn1-0.6.1 pyasn1-modules-0.4.2 requests-2.32.5 rsa-4.9.1 tenacity-9.1.2 urllib3-2.5.0 websockets-15.0.1\n",
      "Note: you may need to restart the kernel to use updated packages.\n"
     ]
    }
   ],
   "source": [
    "%pip install google-genai"
   ]
  },
  {
   "cell_type": "code",
   "execution_count": null,
   "id": "b296c54b",
   "metadata": {},
   "outputs": [
    {
     "name": "stderr",
     "output_type": "stream",
     "text": [
      "Exception ignored in: <function Client.__del__ at 0x792e9a5d9300>\n",
      "Traceback (most recent call last):\n",
      "  File \"/home/daniel-magero-mugulo/Documents/Data Science/Yr2Sem1/Coding/venv/lib/python3.12/site-packages/google/genai/client.py\", line 400, in __del__\n",
      "    self.close()\n",
      "  File \"/home/daniel-magero-mugulo/Documents/Data Science/Yr2Sem1/Coding/venv/lib/python3.12/site-packages/google/genai/client.py\", line 386, in close\n",
      "    self._api_client.close()\n",
      "    ^^^^^^^^^^^^^^^^\n",
      "AttributeError: 'Client' object has no attribute '_api_client'\n"
     ]
    },
    {
     "name": "stdout",
     "output_type": "stream",
     "text": [
      "Error initializing client. Make sure GEMINI_API_KEY is set as an environment variable: Missing key inputs argument! To use the Google AI API, provide (`api_key`) arguments. To use the Google Cloud API, provide (`vertexai`, `project` & `location`) arguments.\n"
     ]
    },
    {
     "ename": "TypeError",
     "evalue": "Part.from_text() takes 1 positional argument but 2 were given",
     "output_type": "error",
     "traceback": [
      "\u001b[31m---------------------------------------------------------------------------\u001b[39m",
      "\u001b[31mTypeError\u001b[39m                                 Traceback (most recent call last)",
      "\u001b[36mCell\u001b[39m\u001b[36m \u001b[39m\u001b[32mIn[1]\u001b[39m\u001b[32m, line 20\u001b[39m\n\u001b[32m     11\u001b[39m     exit()\n\u001b[32m     13\u001b[39m \u001b[38;5;66;03m# --- 2. Define the Prompt (Conversation) ---\u001b[39;00m\n\u001b[32m     14\u001b[39m \u001b[38;5;66;03m# The 'contents' structure is used to define the conversation history/prompt.\u001b[39;00m\n\u001b[32m     15\u001b[39m \u001b[38;5;66;03m# For a single-turn prompt, it typically includes a user role.\u001b[39;00m\n\u001b[32m     16\u001b[39m prompt_contents = [\n\u001b[32m     17\u001b[39m     types.Content(\n\u001b[32m     18\u001b[39m         role=\u001b[33m\"\u001b[39m\u001b[33muser\u001b[39m\u001b[33m\"\u001b[39m,\n\u001b[32m     19\u001b[39m         parts=[\n\u001b[32m---> \u001b[39m\u001b[32m20\u001b[39m             \u001b[43mtypes\u001b[49m\u001b[43m.\u001b[49m\u001b[43mPart\u001b[49m\u001b[43m.\u001b[49m\u001b[43mfrom_text\u001b[49m\u001b[43m(\u001b[49m\u001b[33;43m\"\u001b[39;49m\u001b[33;43mYou will be provided with a sentence in English, and your task is to translate it into French.\u001b[39;49m\u001b[33;43m\"\u001b[39;49m\u001b[43m)\u001b[49m,\n\u001b[32m     21\u001b[39m             types.Part.from_text(\u001b[33m\"\u001b[39m\u001b[33mMy name is Jane. What is yours?\u001b[39m\u001b[33m\"\u001b[39m)\n\u001b[32m     22\u001b[39m         ]\n\u001b[32m     23\u001b[39m     )\n\u001b[32m     24\u001b[39m ]\n\u001b[32m     26\u001b[39m \u001b[38;5;66;03m# --- 3. Generate Content (Call the API) ---\u001b[39;00m\n\u001b[32m     27\u001b[39m \u001b[38;5;28;01mtry\u001b[39;00m:\n",
      "\u001b[31mTypeError\u001b[39m: Part.from_text() takes 1 positional argument but 2 were given"
     ]
    },
    {
     "ename": "",
     "evalue": "",
     "output_type": "error",
     "traceback": [
      "\u001b[1;31mThe Kernel crashed while executing code in the current cell or a previous cell. \n",
      "\u001b[1;31mPlease review the code in the cell(s) to identify a possible cause of the failure. \n",
      "\u001b[1;31mClick <a href='https://aka.ms/vscodeJupyterKernelCrash'>here</a> for more info. \n",
      "\u001b[1;31mView Jupyter <a href='command:jupyter.viewOutput'>log</a> for further details."
     ]
    }
   ],
   "source": [
    "import os\n",
    "from google import genai\n",
    "from google.genai import types\n",
    "\n",
    "# The client automatically looks for the GEMINI_API_KEY \n",
    "# environment variable.\n",
    "try:\n",
    "    client = genai.Client()\n",
    "except Exception as e:\n",
    "    print(f\"Error initializing client. Make sure GEMINI_API_KEY is set as an environment variable: {e}\")\n",
    "    exit()\n",
    "\n",
    "# --- 2. Define the Prompt (Conversation) ---\n",
    "# The 'contents' structure is used to define the conversation history/prompt.\n",
    "# For a single-turn prompt, it typically includes a user role.\n",
    "prompt_contents = [\n",
    "    types.Content(\n",
    "        role=\"user\",\n",
    "        parts=[\n",
    "            types.Part.from_text(\"You will be provided with a sentence in English, and your task is to translate it into French.\"),\n",
    "            types.Part.from_text(\"My name is Jane. What is yours?\")\n",
    "        ]\n",
    "    )\n",
    "]\n",
    "\n",
    "# --- 3. Generate Content (Call the API) ---\n",
    "try:\n",
    "    response = client.models.generate_content(\n",
    "        model=\"gemini-2.5-flash\",  # A powerful and cost-effective model\n",
    "        contents=prompt_contents,\n",
    "        config=types.GenerateContentConfig(\n",
    "            temperature=0.7,  # Adjust for creativity (0.0 for deterministic)\n",
    "            max_output_tokens=256,\n",
    "        )\n",
    "    )\n",
    "\n",
    "    # --- 4. Display the Output ---\n",
    "    print(f\"Model Used: {response.model}\")\n",
    "    print(\"\\n--- Translation Response ---\")\n",
    "    print(response.text.strip())\n",
    "\n",
    "except genai.errors.APIError as e:\n",
    "    print(f\"An API error occurred: {e}\")\n",
    "except Exception as e:\n",
    "    print(f\"An unexpected error occurred: {e}\")"
   ]
  },
  {
   "cell_type": "code",
   "execution_count": 1,
   "id": "f0172ae2",
   "metadata": {},
   "outputs": [
    {
     "name": "stdout",
     "output_type": "stream",
     "text": [
      "Collecting dotenv\n",
      "  Using cached dotenv-0.9.9-py2.py3-none-any.whl.metadata (279 bytes)\n",
      "Collecting python-dotenv (from dotenv)\n",
      "  Using cached python_dotenv-1.1.1-py3-none-any.whl.metadata (24 kB)\n",
      "Using cached dotenv-0.9.9-py2.py3-none-any.whl (1.9 kB)\n",
      "Using cached python_dotenv-1.1.1-py3-none-any.whl (20 kB)\n",
      "Installing collected packages: python-dotenv, dotenv\n",
      "Successfully installed dotenv-0.9.9 python-dotenv-1.1.1\n",
      "Note: you may need to restart the kernel to use updated packages.\n"
     ]
    }
   ],
   "source": [
    "%pip install dotenv"
   ]
  }
 ],
 "metadata": {
  "kernelspec": {
   "display_name": "venv",
   "language": "python",
   "name": "python3"
  },
  "language_info": {
   "codemirror_mode": {
    "name": "ipython",
    "version": 3
   },
   "file_extension": ".py",
   "mimetype": "text/x-python",
   "name": "python",
   "nbconvert_exporter": "python",
   "pygments_lexer": "ipython3",
   "version": "3.12.3"
  }
 },
 "nbformat": 4,
 "nbformat_minor": 5
}
