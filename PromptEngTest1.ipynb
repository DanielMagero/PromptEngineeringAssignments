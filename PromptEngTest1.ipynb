{
 "cells": [
  {
   "cell_type": "code",
   "execution_count": null,
   "id": "ee18320f-df58-4aa9-96d3-7e625edad5b3",
   "metadata": {},
   "outputs": [
    {
     "name": "stdout",
     "output_type": "stream",
     "text": [
      "Type your messages. Type 'bye' to exit.\n",
      "\n",
      "Error: Error code: 429 - {'error': {'message': 'You exceeded your current quota, please check your plan and billing details. For more information on this error, read the docs: https://platform.openai.com/docs/guides/error-codes/api-errors.', 'type': 'insufficient_quota', 'param': None, 'code': 'insufficient_quota'}}\n"
     ]
    }
   ],
   "source": [
    "# Requires: openai >= 1.60.0\n",
    "# Run: pip install --upgrade openai\n",
    "\n",
    "from openai import OpenAI\n",
    "\n",
    "# Create an OpenAI client (replace with your real key or env var)\n",
    "client = OpenAI(api_key= \"\" )\n",
    "\n",
    "# Conversation state\n",
    "# Start with a \"system\" instruction as a *string* (not a list)\n",
    "system_prompt = \"You are an intelligent assistant. Make sure you stay within 10 words.\"\n",
    "\n",
    "# Keep every turn as a simple string in `history`\n",
    "history = [f\"System: {system_prompt}\"]\n",
    "\n",
    "# Interactive loop\n",
    "print(\"Type your messages. Type 'bye' to exit.\\n\")\n",
    "\n",
    "while True:\n",
    "    user_msg = input(\"User: \").strip()\n",
    "    if not user_msg:\n",
    "        continue\n",
    "    if user_msg.lower() == \"bye\":\n",
    "        print(\"GPT-5: Goodbye 👋\")\n",
    "        break\n",
    "\n",
    "    # Save the user input\n",
    "    history.append(f\"User: {user_msg}\")\n",
    "\n",
    "    # Join the transcript into one big text block\n",
    "    prompt = \"\\n\".join(history)\n",
    "\n",
    "    try:\n",
    "        # Send the prompt to GPT-5\n",
    "        response = client.responses.create(\n",
    "            model=\"gpt-5\",\n",
    "            input=prompt,\n",
    "            reasoning={\"effort\": \"medium\"},  # optional\n",
    "            text={\"verbosity\": \"medium\"}     # optional\n",
    "        )\n",
    "\n",
    "        # Get the assistant’s text\n",
    "        reply = response.output_text.strip()\n",
    "\n",
    "        print(f\"GPT-5: {reply}\\n\")\n",
    "\n",
    "        # Save assistant reply for context in the next turn\n",
    "        history.append(f\"Assistant: {reply}\")\n",
    "\n",
    "    except Exception as e:\n",
    "        print(\"Error:\", e)\n",
    "        break\n"
   ]
  },
  {
   "cell_type": "code",
   "execution_count": null,
   "id": "bcab176f-cc00-45b7-b505-267a32146101",
   "metadata": {},
   "outputs": [],
   "source": []
  }
 ],
 "metadata": {
  "kernelspec": {
   "display_name": "venv",
   "language": "python",
   "name": "python3"
  },
  "language_info": {
   "codemirror_mode": {
    "name": "ipython",
    "version": 3
   },
   "file_extension": ".py",
   "mimetype": "text/x-python",
   "name": "python",
   "nbconvert_exporter": "python",
   "pygments_lexer": "ipython3",
   "version": "3.12.3"
  }
 },
 "nbformat": 4,
 "nbformat_minor": 5
}
